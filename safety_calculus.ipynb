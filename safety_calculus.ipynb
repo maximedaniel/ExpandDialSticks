{
 "cells": [
  {
   "cell_type": "code",
   "execution_count": null,
   "metadata": {},
   "outputs": [],
   "source": []
  },
  {
   "cell_type": "code",
   "execution_count": 17,
   "metadata": {},
   "outputs": [
    {
     "name": "stdout",
     "output_type": "stream",
     "text": [
      "pin matrix moves 100.00mm in 1.95+-0.15s\n",
      "pin motion at maximal speed is paused in 0.17+-0.06s within 9.50+-2.77mm \n",
      "16 15.0 15.0\n",
      "(34, 39, 0.212)\n",
      "24 15.0 15.0\n",
      "(30, 33, 0.127)\n",
      "26 15.0 15.0\n",
      "(36, 39, 0.135)\n",
      "pin motion at maximal speed is paused in 0.27s within 15.00mm \n"
     ]
    }
   ],
   "source": [
    "import numpy as np\n",
    "# maximal speed values after testing pin per pin\n",
    "start_pos = 0 # 0\n",
    "end_pos = 40 # 100mm! (~105mm exactly)\n",
    "nb_pos = (end_pos - start_pos)\n",
    "mm_per_pos = 100.0/nb_pos\n",
    "max_translation = mm_per_pos * nb_pos\n",
    "tuple_durations = [\n",
    "    # row 0\n",
    "    (0, 0, 2.198),\n",
    "    (0, 1, 1.939),\n",
    "    (0, 2, 1.782),\n",
    "    (0, 3, 1.845),\n",
    "    (0, 4, 2.085),\n",
    "    (0, 5, 2.093),\n",
    "    # row 1\n",
    "    (1, 0, 1.999),\n",
    "    (1, 1, 1.791),\n",
    "    (1, 2, 1.818),\n",
    "    (1, 3, 2.116),\n",
    "    (1, 4, 1.970),\n",
    "    (1, 5, 2.072),\n",
    "    # row 2\n",
    "    (2, 0, 2.099),\n",
    "    (2, 1, 2.070),\n",
    "    (2, 2, 2.040),\n",
    "    (2, 3, 1.645),\n",
    "    (2, 4, 2.209),\n",
    "    (2, 5, 1.839),\n",
    "    # row 3\n",
    "    (3, 0, 1.993),\n",
    "    (3, 1, 1.983),\n",
    "    (3, 2, 1.958),\n",
    "    (3, 3, 1.592),\n",
    "    (3, 4, 2.002),\n",
    "    (3, 5, 1.793),\n",
    "    # row 4\n",
    "    (4, 0, 2.095),\n",
    "    (4, 1, 2.039),\n",
    "    (4, 2, 1.791),\n",
    "    (4, 3, 1.958),\n",
    "    (4, 4, 2.003),\n",
    "    (4, 5, 1.828),\n",
    "]\n",
    "\n",
    "durations = np.array([])\n",
    "for (row, col, duration) in tuple_durations:\n",
    "    durations = np.append(duration, durations)\n",
    "print(\"pin matrix moves %0.2fmm in %0.2f+-%0.2fs\" %(max_translation, durations.mean(), durations.std()))\n",
    "\n",
    "tuple_stops = [\n",
    "    # row 0\n",
    "    (27, 31, 0.092),\n",
    "    (31, 34, 0.105),\n",
    "    (31, 34, 0.133),\n",
    "    (31, 37, 0.230),\n",
    "    (29, 31, 0.205),\n",
    "    (28, 34, 0.226),\n",
    "\n",
    "    (33, 36, 0.100),\n",
    "    (35, 38, 0.149),\n",
    "    (33, 36, 0.152),\n",
    "    (26, 30, 0.260),\n",
    "    (29, 34, 0.267),\n",
    "    (32, 35, 0.133),\n",
    "\n",
    "    (32, 35, 0.158),\n",
    "    (28, 34, 0.221),\n",
    "    (25, 28, 0.192),\n",
    "    (36, 39, 0.266),\n",
    "    (34, 39, 0.212),\n",
    "    (33, 36, 0.160),\n",
    "\n",
    "    (28, 33, 0.230),\n",
    "    (31, 35, 0.075),\n",
    "    (32, 36, 0.258),\n",
    "    (37, 40, 0.095),\n",
    "    (32, 37, 0.217),\n",
    "    (34, 36, 0.167),\n",
    "\n",
    "    (30, 33, 0.127),\n",
    "    (31, 36, 0.217),\n",
    "    (36, 39, 0.135),\n",
    "    (31, 35, 0.086),\n",
    "    (30, 34, 0.104),\n",
    "    (34, 38, 0.079),\n",
    "]\n",
    "\n",
    "values_stops = np.array([])\n",
    "diff_positions = np.array([])\n",
    "stop_durations = np.array([])\n",
    "for (start_pos, end_pos, stop_duration) in tuple_stops:\n",
    "    diff_positions = np.append((end_pos - start_pos) * mm_per_pos, diff_positions)\n",
    "    stop_durations = np.append(stop_duration, stop_durations)\n",
    "\n",
    "print(\"pin motion at maximal speed is paused in %0.2f+-%0.2fs within %0.2f+-%0.2fmm \" %(stop_durations.mean(), stop_durations.std(), diff_positions.mean(), diff_positions.std()))\n",
    "\n",
    "max_diff_position = diff_positions.max()\n",
    "for i, diff_position in enumerate(diff_positions):\n",
    "    if diff_position == max_diff_position:\n",
    "        print(i, diff_position, max_diff_position)\n",
    "        print(stop_durations[i])\n",
    "print(\"pin motion at maximal speed is paused in %0.2fs within %0.2fmm \" %(stop_durations.max(),  diff_positions.max()))"
   ]
  },
  {
   "cell_type": "markdown",
   "metadata": {},
   "source": []
  },
  {
   "cell_type": "code",
   "execution_count": 11,
   "metadata": {},
   "outputs": [
    {
     "name": "stdout",
     "output_type": "stream",
     "text": [
      "servomotor_force: 12.75N\n",
      "pin pressure: 0.25N/cm²\n"
     ]
    }
   ],
   "source": [
    "import sys\n",
    "import math\n",
    "\n",
    "servomotor_torque = 1.3 #kg.cm\n",
    "servomotor_radius = 1.5 #cm\n",
    "gravitation_constant = 9.80665 #m/s²\n",
    "servomotor_force = servomotor_torque * gravitation_constant # kg * m/s² -> N\n",
    "print(\"servomotor_force: %.2fN\" %servomotor_force)\n",
    "pin_surface = 4 * 4 * math.pi #cm²\n",
    "pin_pressure = servomotor_force/pin_surface\n",
    "print(\"pin pressure: %.2fN/cm²\" %pin_pressure)"
   ]
  }
 ],
 "metadata": {
  "kernelspec": {
   "display_name": "Python 3.8.8 64-bit",
   "language": "python",
   "name": "python3"
  },
  "language_info": {
   "codemirror_mode": {
    "name": "ipython",
    "version": 3
   },
   "file_extension": ".py",
   "mimetype": "text/x-python",
   "name": "python",
   "nbconvert_exporter": "python",
   "pygments_lexer": "ipython3",
   "version": "3.8.8"
  },
  "orig_nbformat": 4,
  "vscode": {
   "interpreter": {
    "hash": "ebe392d41db163d56b2b6e1812573b474dfb7f21c1c5b31dd1fdf558e49887a4"
   }
  }
 },
 "nbformat": 4,
 "nbformat_minor": 2
}
